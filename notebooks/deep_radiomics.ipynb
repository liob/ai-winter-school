{
 "cells": [
  {
   "cell_type": "code",
   "execution_count": 31,
   "metadata": {
    "collapsed": false
   },
   "outputs": [],
   "source": [
    "import numpy as np\n",
    "import keras\n",
    "from keras import backend as K\n",
    "from keras.layers import Input, Dense, Conv2D, MaxPooling2D, UpSampling2D, Reshape, Flatten, BatchNormalization, Lambda\n",
    "from keras.models import Model\n",
    "from keras.preprocessing.image import ImageDataGenerator\n",
    "from keras.utils import to_categorical\n",
    "from tqdm import tqdm_notebook as tqdm\n",
    "\n",
    "from matplotlib import pyplot as plt\n",
    "%matplotlib inline"
   ]
  },
  {
   "cell_type": "code",
   "execution_count": 39,
   "metadata": {
    "collapsed": false
   },
   "outputs": [],
   "source": [
    "(x_train, y_train), (x_test, y_test) = keras.datasets.fashion_mnist.load_data()\n",
    "x_train = x_train.reshape(x_train.shape+(1,)) / 255.0\n",
    "x_test  = x_test.reshape(x_test.shape+(1,)) / 255.0\n",
    "\n",
    "y_train = to_categorical(y_train, 10)\n",
    "y_test  = to_categorical(y_test,  10)\n",
    "\n",
    "n2l = {0: 'T-shirt/top',\n",
    "       1: 'Trouser',\n",
    "       2: 'Pullover',\n",
    "       3: 'Dress',\n",
    "       4: 'Coat',\n",
    "       5: 'Sandal',\n",
    "       6: 'Shirt',\n",
    "       7: 'Sneaker',\n",
    "       8: 'Bag',\n",
    "       9: 'Ankle boot'}"
   ]
  },
  {
   "cell_type": "code",
   "execution_count": 35,
   "metadata": {
    "collapsed": false
   },
   "outputs": [
    {
     "name": "stdout",
     "output_type": "stream",
     "text": [
      "__________________________________________________________________________________________________\n",
      "Layer (type)                    Output Shape         Param #     Connected to                     \n",
      "==================================================================================================\n",
      "input_7 (InputLayer)            (None, 28, 28, 1)    0                                            \n",
      "__________________________________________________________________________________________________\n",
      "batch_normalization_37 (BatchNo (None, 28, 28, 1)    4           input_7[0][0]                    \n",
      "__________________________________________________________________________________________________\n",
      "conv2d_31 (Conv2D)              (None, 28, 28, 16)   160         batch_normalization_37[0][0]     \n",
      "__________________________________________________________________________________________________\n",
      "max_pooling2d_13 (MaxPooling2D) (None, 14, 14, 16)   0           conv2d_31[0][0]                  \n",
      "__________________________________________________________________________________________________\n",
      "batch_normalization_38 (BatchNo (None, 14, 14, 16)   64          max_pooling2d_13[0][0]           \n",
      "__________________________________________________________________________________________________\n",
      "conv2d_32 (Conv2D)              (None, 14, 14, 32)   4640        batch_normalization_38[0][0]     \n",
      "__________________________________________________________________________________________________\n",
      "max_pooling2d_14 (MaxPooling2D) (None, 7, 7, 32)     0           conv2d_32[0][0]                  \n",
      "__________________________________________________________________________________________________\n",
      "batch_normalization_39 (BatchNo (None, 7, 7, 32)     128         max_pooling2d_14[0][0]           \n",
      "__________________________________________________________________________________________________\n",
      "conv2d_33 (Conv2D)              (None, 7, 7, 64)     18496       batch_normalization_39[0][0]     \n",
      "__________________________________________________________________________________________________\n",
      "flatten_7 (Flatten)             (None, 3136)         0           conv2d_33[0][0]                  \n",
      "__________________________________________________________________________________________________\n",
      "dense_13 (Dense)                (None, 49)           153713      flatten_7[0][0]                  \n",
      "__________________________________________________________________________________________________\n",
      "reshape_7 (Reshape)             (None, 7, 7, 1)      0           dense_13[0][0]                   \n",
      "__________________________________________________________________________________________________\n",
      "batch_normalization_40 (BatchNo (None, 7, 7, 1)      4           reshape_7[0][0]                  \n",
      "__________________________________________________________________________________________________\n",
      "conv2d_34 (Conv2D)              (None, 7, 7, 64)     640         batch_normalization_40[0][0]     \n",
      "__________________________________________________________________________________________________\n",
      "up_sampling2d_13 (UpSampling2D) (None, 14, 14, 64)   0           conv2d_34[0][0]                  \n",
      "__________________________________________________________________________________________________\n",
      "batch_normalization_41 (BatchNo (None, 14, 14, 64)   256         up_sampling2d_13[0][0]           \n",
      "__________________________________________________________________________________________________\n",
      "conv2d_35 (Conv2D)              (None, 14, 14, 32)   18464       batch_normalization_41[0][0]     \n",
      "__________________________________________________________________________________________________\n",
      "up_sampling2d_14 (UpSampling2D) (None, 28, 28, 32)   0           conv2d_35[0][0]                  \n",
      "__________________________________________________________________________________________________\n",
      "lambda_6 (Lambda)               (None, 49)           0           dense_13[0][0]                   \n",
      "__________________________________________________________________________________________________\n",
      "batch_normalization_42 (BatchNo (None, 28, 28, 32)   128         up_sampling2d_14[0][0]           \n",
      "__________________________________________________________________________________________________\n",
      "dense_14 (Dense)                (None, 128)          6400        lambda_6[0][0]                   \n",
      "__________________________________________________________________________________________________\n",
      "ae (Conv2D)                     (None, 28, 28, 1)    289         batch_normalization_42[0][0]     \n",
      "__________________________________________________________________________________________________\n",
      "clf (Dense)                     (None, 10)           1290        dense_14[0][0]                   \n",
      "==================================================================================================\n",
      "Total params: 204,676\n",
      "Trainable params: 204,384\n",
      "Non-trainable params: 292\n",
      "__________________________________________________________________________________________________\n"
     ]
    }
   ],
   "source": [
    "def BN(net):\n",
    "    return BatchNormalization(momentum=0.9)(net)\n",
    "\n",
    "\n",
    "input_ae = Input(shape=x_train.shape[1:])\n",
    "net = input_ae\n",
    "net = BN(net)\n",
    "net = Conv2D(16, 3, activation='relu', padding='same')(net)\n",
    "net = MaxPooling2D(2, padding='same')(net)\n",
    "net = BN(net)\n",
    "net = Conv2D(32, 3, activation='relu', padding='same')(net)\n",
    "net = MaxPooling2D(2, padding='same')(net)\n",
    "net = BN(net)\n",
    "net = Conv2D(64, 3, activation='relu', padding='same')(net)\n",
    "net = Flatten()(net)\n",
    "net = Dense(49)(net)\n",
    "encoded = net\n",
    "net = Reshape((7, 7, 1))(net)\n",
    "net = BN(net)\n",
    "net = Conv2D(64, 3, activation='relu', padding='same')(net)\n",
    "net = UpSampling2D(2)(net)\n",
    "net = BN(net)\n",
    "net = Conv2D(32, 3, activation='relu', padding='same')(net)\n",
    "net = UpSampling2D(2)(net)\n",
    "net = BN(net)\n",
    "output_ae = Conv2D(1, 3, activation='sigmoid', padding='same', name='ae')(net)\n",
    "\n",
    "net = encoded\n",
    "net = Lambda(lambda x: K.stop_gradient(x))(net)\n",
    "net = Dense(128, activation='relu')(net)\n",
    "output_clf = Dense(y_train.shape[-1], activation='softmax', name='clf')(net)\n",
    "\n",
    "model = Model(input_ae, [output_ae, output_clf])\n",
    "model.compile(optimizer='adam', \n",
    "              loss={'ae':  'mse',\n",
    "                    'clf': 'binary_crossentropy'},\n",
    "              metrics=['acc'])\n",
    "\n",
    "model.summary()"
   ]
  },
  {
   "cell_type": "code",
   "execution_count": 36,
   "metadata": {
    "collapsed": false
   },
   "outputs": [
    {
     "name": "stdout",
     "output_type": "stream",
     "text": [
      "Train on 60000 samples, validate on 10000 samples\n",
      "Epoch 1/20\n",
      " - 12s - loss: 0.1573 - ae_loss: 0.0283 - clf_loss: 0.1290 - ae_acc: 0.5032 - clf_acc: 0.9488 - val_loss: 0.1143 - val_ae_loss: 0.0167 - val_clf_loss: 0.0976 - val_ae_acc: 0.5053 - val_clf_acc: 0.9598\n",
      "Epoch 2/20\n",
      " - 10s - loss: 0.0994 - ae_loss: 0.0147 - clf_loss: 0.0847 - ae_acc: 0.5079 - clf_acc: 0.9655 - val_loss: 0.0963 - val_ae_loss: 0.0135 - val_clf_loss: 0.0828 - val_ae_acc: 0.5059 - val_clf_acc: 0.9674\n",
      "Epoch 3/20\n",
      " - 10s - loss: 0.0877 - ae_loss: 0.0128 - clf_loss: 0.0749 - ae_acc: 0.5084 - clf_acc: 0.9701 - val_loss: 0.0922 - val_ae_loss: 0.0128 - val_clf_loss: 0.0794 - val_ae_acc: 0.5060 - val_clf_acc: 0.9681\n",
      "Epoch 4/20\n",
      " - 10s - loss: 0.0823 - ae_loss: 0.0119 - clf_loss: 0.0704 - ae_acc: 0.5085 - clf_acc: 0.9719 - val_loss: 0.0840 - val_ae_loss: 0.0112 - val_clf_loss: 0.0727 - val_ae_acc: 0.5064 - val_clf_acc: 0.9718\n",
      "Epoch 5/20\n",
      " - 10s - loss: 0.0789 - ae_loss: 0.0113 - clf_loss: 0.0675 - ae_acc: 0.5086 - clf_acc: 0.9732 - val_loss: 0.0822 - val_ae_loss: 0.0109 - val_clf_loss: 0.0713 - val_ae_acc: 0.5065 - val_clf_acc: 0.9723\n",
      "Epoch 6/20\n",
      " - 10s - loss: 0.0762 - ae_loss: 0.0109 - clf_loss: 0.0653 - ae_acc: 0.5087 - clf_acc: 0.9740 - val_loss: 0.0822 - val_ae_loss: 0.0105 - val_clf_loss: 0.0717 - val_ae_acc: 0.5066 - val_clf_acc: 0.9716\n",
      "Epoch 7/20\n",
      " - 10s - loss: 0.0737 - ae_loss: 0.0105 - clf_loss: 0.0633 - ae_acc: 0.5088 - clf_acc: 0.9749 - val_loss: 0.0786 - val_ae_loss: 0.0102 - val_clf_loss: 0.0684 - val_ae_acc: 0.5066 - val_clf_acc: 0.9728\n",
      "Epoch 8/20\n",
      " - 9s - loss: 0.0722 - ae_loss: 0.0103 - clf_loss: 0.0620 - ae_acc: 0.5088 - clf_acc: 0.9753 - val_loss: 0.0763 - val_ae_loss: 0.0101 - val_clf_loss: 0.0662 - val_ae_acc: 0.5067 - val_clf_acc: 0.9741\n",
      "Epoch 9/20\n",
      " - 9s - loss: 0.0702 - ae_loss: 0.0100 - clf_loss: 0.0601 - ae_acc: 0.5089 - clf_acc: 0.9759 - val_loss: 0.0762 - val_ae_loss: 0.0108 - val_clf_loss: 0.0654 - val_ae_acc: 0.5068 - val_clf_acc: 0.9740\n",
      "Epoch 10/20\n",
      " - 10s - loss: 0.0696 - ae_loss: 0.0099 - clf_loss: 0.0597 - ae_acc: 0.5089 - clf_acc: 0.9763 - val_loss: 0.0773 - val_ae_loss: 0.0097 - val_clf_loss: 0.0676 - val_ae_acc: 0.5067 - val_clf_acc: 0.9731\n",
      "Epoch 11/20\n",
      " - 10s - loss: 0.0686 - ae_loss: 0.0096 - clf_loss: 0.0590 - ae_acc: 0.5089 - clf_acc: 0.9765 - val_loss: 0.0747 - val_ae_loss: 0.0094 - val_clf_loss: 0.0653 - val_ae_acc: 0.5068 - val_clf_acc: 0.9746\n",
      "Epoch 12/20\n",
      " - 10s - loss: 0.0680 - ae_loss: 0.0095 - clf_loss: 0.0585 - ae_acc: 0.5090 - clf_acc: 0.9767 - val_loss: 0.0751 - val_ae_loss: 0.0092 - val_clf_loss: 0.0658 - val_ae_acc: 0.5068 - val_clf_acc: 0.9740\n",
      "Epoch 13/20\n",
      " - 10s - loss: 0.0672 - ae_loss: 0.0094 - clf_loss: 0.0578 - ae_acc: 0.5090 - clf_acc: 0.9770 - val_loss: 0.0728 - val_ae_loss: 0.0096 - val_clf_loss: 0.0632 - val_ae_acc: 0.5068 - val_clf_acc: 0.9755\n",
      "Epoch 14/20\n",
      " - 10s - loss: 0.0659 - ae_loss: 0.0092 - clf_loss: 0.0567 - ae_acc: 0.5090 - clf_acc: 0.9774 - val_loss: 0.0739 - val_ae_loss: 0.0092 - val_clf_loss: 0.0647 - val_ae_acc: 0.5067 - val_clf_acc: 0.9744\n",
      "Epoch 15/20\n",
      " - 10s - loss: 0.0653 - ae_loss: 0.0092 - clf_loss: 0.0561 - ae_acc: 0.5090 - clf_acc: 0.9775 - val_loss: 0.0758 - val_ae_loss: 0.0090 - val_clf_loss: 0.0668 - val_ae_acc: 0.5068 - val_clf_acc: 0.9732\n",
      "Epoch 16/20\n",
      " - 10s - loss: 0.0647 - ae_loss: 0.0090 - clf_loss: 0.0557 - ae_acc: 0.5090 - clf_acc: 0.9779 - val_loss: 0.0720 - val_ae_loss: 0.0091 - val_clf_loss: 0.0629 - val_ae_acc: 0.5068 - val_clf_acc: 0.9755\n",
      "Epoch 17/20\n",
      " - 10s - loss: 0.0641 - ae_loss: 0.0089 - clf_loss: 0.0552 - ae_acc: 0.5091 - clf_acc: 0.9781 - val_loss: 0.0704 - val_ae_loss: 0.0090 - val_clf_loss: 0.0614 - val_ae_acc: 0.5069 - val_clf_acc: 0.9760\n",
      "Epoch 18/20\n",
      " - 10s - loss: 0.0644 - ae_loss: 0.0089 - clf_loss: 0.0555 - ae_acc: 0.5091 - clf_acc: 0.9778 - val_loss: 0.0720 - val_ae_loss: 0.0090 - val_clf_loss: 0.0630 - val_ae_acc: 0.5067 - val_clf_acc: 0.9755\n",
      "Epoch 19/20\n",
      " - 10s - loss: 0.0633 - ae_loss: 0.0089 - clf_loss: 0.0545 - ae_acc: 0.5091 - clf_acc: 0.9784 - val_loss: 0.0716 - val_ae_loss: 0.0089 - val_clf_loss: 0.0627 - val_ae_acc: 0.5069 - val_clf_acc: 0.9759\n",
      "Epoch 20/20\n",
      " - 10s - loss: 0.0626 - ae_loss: 0.0088 - clf_loss: 0.0538 - ae_acc: 0.5091 - clf_acc: 0.9785 - val_loss: 0.0695 - val_ae_loss: 0.0090 - val_clf_loss: 0.0605 - val_ae_acc: 0.5067 - val_clf_acc: 0.9760\n"
     ]
    },
    {
     "data": {
      "text/plain": [
       "<keras.callbacks.History at 0x7f7714708610>"
      ]
     },
     "execution_count": 36,
     "metadata": {},
     "output_type": "execute_result"
    }
   ],
   "source": [
    "model.fit(x_train, [x_train, y_train],\n",
    "          epochs=20,\n",
    "          batch_size=128,\n",
    "          shuffle=True,\n",
    "          validation_data=(x_test, [x_test, y_test]),\n",
    "          verbose=2)"
   ]
  },
  {
   "cell_type": "code",
   "execution_count": 37,
   "metadata": {
    "collapsed": true
   },
   "outputs": [],
   "source": [
    "p_img, p_clf = model.predict(x_test)"
   ]
  },
  {
   "cell_type": "code",
   "execution_count": 49,
   "metadata": {
    "collapsed": false
   },
   "outputs": [
    {
     "data": {
      "image/png": "[encoded data removed]",
      "text/plain": [
       "<matplotlib.figure.Figure at 0x7f776a659710>"
      ]
     },
     "metadata": {},
     "output_type": "display_data"
    }
   ],
   "source": [
    "n_samples = 3\n",
    "\n",
    "fig, axs = plt.subplots(n_samples, 2, figsize=(5,10))\n",
    "for idx, sample_id in enumerate(np.random.randint(0, len(p_img), n_samples)):\n",
    "    ax_img = axs[idx][0]\n",
    "    ax_pre = axs[idx][1]\n",
    "    ax_img.imshow(x_test[sample_id, ..., 0], cmap='gray')\n",
    "    ax_img.set_title(n2l[np.argmax(y_test[sample_id])])\n",
    "    ax_pre.imshow(p_img[sample_id, ..., 0], cmap='gray')\n",
    "    ax_pre.set_title(n2l[np.argmax(p_clf[sample_id])])"
   ]
  }
 ],
 "metadata": {
  "kernelspec": {
   "display_name": "Python 2",
   "language": "python",
   "name": "python2"
  },
  "language_info": {
   "codemirror_mode": {
    "name": "ipython",
    "version": 2
   },
   "file_extension": ".py",
   "mimetype": "text/x-python",
   "name": "python",
   "nbconvert_exporter": "python",
   "pygments_lexer": "ipython2",
   "version": "2.7.11"
  }
 },
 "nbformat": 4,
 "nbformat_minor": 0
}
