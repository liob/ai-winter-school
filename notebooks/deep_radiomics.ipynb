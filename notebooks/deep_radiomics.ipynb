{
  "nbformat": 4,
  "nbformat_minor": 0,
  "metadata": {
    "colab": {
      "name": "deep_radiomics.ipynb",
      "version": "0.3.2",
      "provenance": []
    },
    "kernelspec": {
      "name": "python2",
      "display_name": "Python 2"
    },
    "accelerator": "GPU"
  },
  "cells": [
    {
      "metadata": {
        "id": "ptuZuySDVF-Y",
        "colab_type": "code",
        "colab": {
          "base_uri": "https://localhost:8080/",
          "height": 34
        },
        "outputId": "4bc34e09-794d-46ab-fc45-ff016cac5406"
      },
      "cell_type": "code",
      "source": [
        "import numpy as np\n",
        "import keras\n",
        "from keras import backend as K\n",
        "from keras.layers import Input, Dense, Conv2D, MaxPooling2D, UpSampling2D, Reshape, Flatten, BatchNormalization, Lambda\n",
        "from keras.models import Model\n",
        "from keras.preprocessing.image import ImageDataGenerator\n",
        "from keras.utils import to_categorical\n",
        "from tqdm import tqdm_notebook as tqdm\n",
        "\n",
        "from matplotlib import pyplot as plt\n",
        "%matplotlib inline"
      ],
      "execution_count": 1,
      "outputs": [
        {
          "output_type": "stream",
          "text": [
            "Using TensorFlow backend.\n"
          ],
          "name": "stderr"
        }
      ]
    },
    {
      "metadata": {
        "id": "uFWDhmQ5VF-v",
        "colab_type": "code",
        "colab": {}
      },
      "cell_type": "code",
      "source": [
        "(x_train, y_train), (x_test, y_test) = keras.datasets.fashion_mnist.load_data()\n",
        "x_train = x_train.reshape(x_train.shape+(1,)) / 255.0\n",
        "x_test  = x_test.reshape(x_test.shape+(1,)) / 255.0\n",
        "\n",
        "y_train = to_categorical(y_train, 10)\n",
        "y_test  = to_categorical(y_test,  10)\n",
        "\n",
        "n2l = {0: 'T-shirt/top',\n",
        "       1: 'Trouser',\n",
        "       2: 'Pullover',\n",
        "       3: 'Dress',\n",
        "       4: 'Coat',\n",
        "       5: 'Sandal',\n",
        "       6: 'Shirt',\n",
        "       7: 'Sneaker',\n",
        "       8: 'Bag',\n",
        "       9: 'Ankle boot'}"
      ],
      "execution_count": 0,
      "outputs": []
    },
    {
      "metadata": {
        "id": "MejLlTfXVF-6",
        "colab_type": "code",
        "colab": {
          "base_uri": "https://localhost:8080/",
          "height": 937
        },
        "outputId": "00b27338-e580-4d6a-a47e-eabe0584fe6b"
      },
      "cell_type": "code",
      "source": [
        "def BN(net):\n",
        "    return BatchNormalization(momentum=0.9)(net)\n",
        "\n",
        "\n",
        "input_ae = Input(shape=x_train.shape[1:])\n",
        "net = input_ae\n",
        "net = BN(net)\n",
        "net = Conv2D(16, 3, activation='relu', padding='same')(net)\n",
        "net = MaxPooling2D(2, padding='same')(net)\n",
        "net = BN(net)\n",
        "net = Conv2D(32, 3, activation='relu', padding='same')(net)\n",
        "net = MaxPooling2D(2, padding='same')(net)\n",
        "net = BN(net)\n",
        "net = Conv2D(64, 3, activation='relu', padding='same')(net)\n",
        "net = Flatten()(net)\n",
        "net = Dense(49)(net)\n",
        "encoded = net\n",
        "net = Reshape((7, 7, 1))(net)\n",
        "net = BN(net)\n",
        "net = Conv2D(64, 3, activation='relu', padding='same')(net)\n",
        "net = UpSampling2D(2)(net)\n",
        "net = BN(net)\n",
        "net = Conv2D(32, 3, activation='relu', padding='same')(net)\n",
        "net = UpSampling2D(2)(net)\n",
        "net = BN(net)\n",
        "output_ae = Conv2D(1, 3, activation='sigmoid', padding='same', name='ae')(net)\n",
        "\n",
        "net = encoded\n",
        "net = Lambda(lambda x: K.stop_gradient(x))(net)\n",
        "net = Dense(128, activation='relu')(net)\n",
        "output_clf = Dense(y_train.shape[-1], activation='softmax', name='clf')(net)\n",
        "\n",
        "model = Model(input_ae, [output_ae, output_clf])\n",
        "model.compile(optimizer='adam', \n",
        "              loss={'ae':  'mse',\n",
        "                    'clf': 'binary_crossentropy'},\n",
        "              metrics=['acc'])\n",
        "\n",
        "model.summary()"
      ],
      "execution_count": 3,
      "outputs": [
        {
          "output_type": "stream",
          "text": [
            "__________________________________________________________________________________________________\n",
            "Layer (type)                    Output Shape         Param #     Connected to                     \n",
            "==================================================================================================\n",
            "input_1 (InputLayer)            (None, 28, 28, 1)    0                                            \n",
            "__________________________________________________________________________________________________\n",
            "batch_normalization_1 (BatchNor (None, 28, 28, 1)    4           input_1[0][0]                    \n",
            "__________________________________________________________________________________________________\n",
            "conv2d_1 (Conv2D)               (None, 28, 28, 16)   160         batch_normalization_1[0][0]      \n",
            "__________________________________________________________________________________________________\n",
            "max_pooling2d_1 (MaxPooling2D)  (None, 14, 14, 16)   0           conv2d_1[0][0]                   \n",
            "__________________________________________________________________________________________________\n",
            "batch_normalization_2 (BatchNor (None, 14, 14, 16)   64          max_pooling2d_1[0][0]            \n",
            "__________________________________________________________________________________________________\n",
            "conv2d_2 (Conv2D)               (None, 14, 14, 32)   4640        batch_normalization_2[0][0]      \n",
            "__________________________________________________________________________________________________\n",
            "max_pooling2d_2 (MaxPooling2D)  (None, 7, 7, 32)     0           conv2d_2[0][0]                   \n",
            "__________________________________________________________________________________________________\n",
            "batch_normalization_3 (BatchNor (None, 7, 7, 32)     128         max_pooling2d_2[0][0]            \n",
            "__________________________________________________________________________________________________\n",
            "conv2d_3 (Conv2D)               (None, 7, 7, 64)     18496       batch_normalization_3[0][0]      \n",
            "__________________________________________________________________________________________________\n",
            "flatten_1 (Flatten)             (None, 3136)         0           conv2d_3[0][0]                   \n",
            "__________________________________________________________________________________________________\n",
            "dense_1 (Dense)                 (None, 49)           153713      flatten_1[0][0]                  \n",
            "__________________________________________________________________________________________________\n",
            "reshape_1 (Reshape)             (None, 7, 7, 1)      0           dense_1[0][0]                    \n",
            "__________________________________________________________________________________________________\n",
            "batch_normalization_4 (BatchNor (None, 7, 7, 1)      4           reshape_1[0][0]                  \n",
            "__________________________________________________________________________________________________\n",
            "conv2d_4 (Conv2D)               (None, 7, 7, 64)     640         batch_normalization_4[0][0]      \n",
            "__________________________________________________________________________________________________\n",
            "up_sampling2d_1 (UpSampling2D)  (None, 14, 14, 64)   0           conv2d_4[0][0]                   \n",
            "__________________________________________________________________________________________________\n",
            "batch_normalization_5 (BatchNor (None, 14, 14, 64)   256         up_sampling2d_1[0][0]            \n",
            "__________________________________________________________________________________________________\n",
            "conv2d_5 (Conv2D)               (None, 14, 14, 32)   18464       batch_normalization_5[0][0]      \n",
            "__________________________________________________________________________________________________\n",
            "up_sampling2d_2 (UpSampling2D)  (None, 28, 28, 32)   0           conv2d_5[0][0]                   \n",
            "__________________________________________________________________________________________________\n",
            "lambda_1 (Lambda)               (None, 49)           0           dense_1[0][0]                    \n",
            "__________________________________________________________________________________________________\n",
            "batch_normalization_6 (BatchNor (None, 28, 28, 32)   128         up_sampling2d_2[0][0]            \n",
            "__________________________________________________________________________________________________\n",
            "dense_2 (Dense)                 (None, 128)          6400        lambda_1[0][0]                   \n",
            "__________________________________________________________________________________________________\n",
            "ae (Conv2D)                     (None, 28, 28, 1)    289         batch_normalization_6[0][0]      \n",
            "__________________________________________________________________________________________________\n",
            "clf (Dense)                     (None, 10)           1290        dense_2[0][0]                    \n",
            "==================================================================================================\n",
            "Total params: 204,676\n",
            "Trainable params: 204,384\n",
            "Non-trainable params: 292\n",
            "__________________________________________________________________________________________________\n"
          ],
          "name": "stdout"
        }
      ]
    },
    {
      "metadata": {
        "id": "fHTneZvlVF_K",
        "colab_type": "code",
        "colab": {
          "base_uri": "https://localhost:8080/",
          "height": 766
        },
        "outputId": "927f5418-10a1-4159-dd83-281a2dead940"
      },
      "cell_type": "code",
      "source": [
        "model.fit(x_train, [x_train, y_train],\n",
        "          epochs=20,\n",
        "          batch_size=128,\n",
        "          shuffle=True,\n",
        "          validation_data=(x_test, [x_test, y_test]),\n",
        "          verbose=1)"
      ],
      "execution_count": 4,
      "outputs": [
        {
          "output_type": "stream",
          "text": [
            "Train on 60000 samples, validate on 10000 samples\n",
            "Epoch 1/20\n",
            "60000/60000 [==============================] - 17s 283us/step - loss: 0.1491 - ae_loss: 0.0266 - clf_loss: 0.1225 - ae_acc: 0.5040 - clf_acc: 0.9518 - val_loss: 0.1086 - val_ae_loss: 0.0160 - val_clf_loss: 0.0926 - val_ae_acc: 0.5053 - val_clf_acc: 0.9618\n",
            "Epoch 2/20\n",
            "60000/60000 [==============================] - 14s 230us/step - loss: 0.0969 - ae_loss: 0.0145 - clf_loss: 0.0824 - ae_acc: 0.5080 - clf_acc: 0.9664 - val_loss: 0.1005 - val_ae_loss: 0.0133 - val_clf_loss: 0.0872 - val_ae_acc: 0.5060 - val_clf_acc: 0.9644\n",
            "Epoch 3/20\n",
            "60000/60000 [==============================] - 14s 227us/step - loss: 0.0885 - ae_loss: 0.0127 - clf_loss: 0.0758 - ae_acc: 0.5083 - clf_acc: 0.9696 - val_loss: 0.0902 - val_ae_loss: 0.0122 - val_clf_loss: 0.0780 - val_ae_acc: 0.5062 - val_clf_acc: 0.9693\n",
            "Epoch 4/20\n",
            "60000/60000 [==============================] - 14s 228us/step - loss: 0.0835 - ae_loss: 0.0119 - clf_loss: 0.0717 - ae_acc: 0.5085 - clf_acc: 0.9714 - val_loss: 0.0895 - val_ae_loss: 0.0114 - val_clf_loss: 0.0781 - val_ae_acc: 0.5065 - val_clf_acc: 0.9689\n",
            "Epoch 5/20\n",
            "60000/60000 [==============================] - 14s 226us/step - loss: 0.0796 - ae_loss: 0.0112 - clf_loss: 0.0684 - ae_acc: 0.5086 - clf_acc: 0.9729 - val_loss: 0.0825 - val_ae_loss: 0.0108 - val_clf_loss: 0.0717 - val_ae_acc: 0.5064 - val_clf_acc: 0.9712\n",
            "Epoch 6/20\n",
            "60000/60000 [==============================] - 14s 228us/step - loss: 0.0760 - ae_loss: 0.0108 - clf_loss: 0.0652 - ae_acc: 0.5087 - clf_acc: 0.9740 - val_loss: 0.0792 - val_ae_loss: 0.0104 - val_clf_loss: 0.0687 - val_ae_acc: 0.5066 - val_clf_acc: 0.9733\n",
            "Epoch 7/20\n",
            "60000/60000 [==============================] - 14s 225us/step - loss: 0.0734 - ae_loss: 0.0105 - clf_loss: 0.0629 - ae_acc: 0.5087 - clf_acc: 0.9750 - val_loss: 0.0769 - val_ae_loss: 0.0104 - val_clf_loss: 0.0665 - val_ae_acc: 0.5065 - val_clf_acc: 0.9741\n",
            "Epoch 8/20\n",
            "60000/60000 [==============================] - 13s 225us/step - loss: 0.0721 - ae_loss: 0.0102 - clf_loss: 0.0619 - ae_acc: 0.5088 - clf_acc: 0.9754 - val_loss: 0.0773 - val_ae_loss: 0.0100 - val_clf_loss: 0.0673 - val_ae_acc: 0.5067 - val_clf_acc: 0.9733\n",
            "Epoch 9/20\n",
            "60000/60000 [==============================] - 14s 227us/step - loss: 0.0702 - ae_loss: 0.0100 - clf_loss: 0.0602 - ae_acc: 0.5088 - clf_acc: 0.9761 - val_loss: 0.0812 - val_ae_loss: 0.0098 - val_clf_loss: 0.0714 - val_ae_acc: 0.5065 - val_clf_acc: 0.9716\n",
            "Epoch 10/20\n",
            "60000/60000 [==============================] - 14s 226us/step - loss: 0.0687 - ae_loss: 0.0099 - clf_loss: 0.0588 - ae_acc: 0.5088 - clf_acc: 0.9766 - val_loss: 0.0768 - val_ae_loss: 0.0098 - val_clf_loss: 0.0671 - val_ae_acc: 0.5065 - val_clf_acc: 0.9735\n",
            "Epoch 11/20\n",
            "60000/60000 [==============================] - 14s 230us/step - loss: 0.0686 - ae_loss: 0.0097 - clf_loss: 0.0589 - ae_acc: 0.5089 - clf_acc: 0.9765 - val_loss: 0.0742 - val_ae_loss: 0.0098 - val_clf_loss: 0.0643 - val_ae_acc: 0.5066 - val_clf_acc: 0.9747\n",
            "Epoch 12/20\n",
            "60000/60000 [==============================] - 14s 230us/step - loss: 0.0674 - ae_loss: 0.0096 - clf_loss: 0.0578 - ae_acc: 0.5089 - clf_acc: 0.9769 - val_loss: 0.0739 - val_ae_loss: 0.0097 - val_clf_loss: 0.0642 - val_ae_acc: 0.5065 - val_clf_acc: 0.9751\n",
            "Epoch 13/20\n",
            "60000/60000 [==============================] - 13s 224us/step - loss: 0.0668 - ae_loss: 0.0094 - clf_loss: 0.0574 - ae_acc: 0.5089 - clf_acc: 0.9772 - val_loss: 0.0738 - val_ae_loss: 0.0093 - val_clf_loss: 0.0645 - val_ae_acc: 0.5067 - val_clf_acc: 0.9749\n",
            "Epoch 14/20\n",
            "60000/60000 [==============================] - 14s 229us/step - loss: 0.0659 - ae_loss: 0.0094 - clf_loss: 0.0565 - ae_acc: 0.5089 - clf_acc: 0.9775 - val_loss: 0.0739 - val_ae_loss: 0.0091 - val_clf_loss: 0.0648 - val_ae_acc: 0.5067 - val_clf_acc: 0.9744\n",
            "Epoch 15/20\n",
            "60000/60000 [==============================] - 14s 230us/step - loss: 0.0655 - ae_loss: 0.0092 - clf_loss: 0.0563 - ae_acc: 0.5090 - clf_acc: 0.9778 - val_loss: 0.0725 - val_ae_loss: 0.0090 - val_clf_loss: 0.0635 - val_ae_acc: 0.5067 - val_clf_acc: 0.9753\n",
            "Epoch 16/20\n",
            "60000/60000 [==============================] - 13s 224us/step - loss: 0.0640 - ae_loss: 0.0091 - clf_loss: 0.0549 - ae_acc: 0.5090 - clf_acc: 0.9782 - val_loss: 0.0719 - val_ae_loss: 0.0090 - val_clf_loss: 0.0629 - val_ae_acc: 0.5067 - val_clf_acc: 0.9754\n",
            "Epoch 17/20\n",
            "60000/60000 [==============================] - 14s 229us/step - loss: 0.0637 - ae_loss: 0.0090 - clf_loss: 0.0547 - ae_acc: 0.5090 - clf_acc: 0.9783 - val_loss: 0.0723 - val_ae_loss: 0.0091 - val_clf_loss: 0.0632 - val_ae_acc: 0.5066 - val_clf_acc: 0.9756\n",
            "Epoch 18/20\n",
            "60000/60000 [==============================] - 14s 228us/step - loss: 0.0636 - ae_loss: 0.0089 - clf_loss: 0.0546 - ae_acc: 0.5090 - clf_acc: 0.9783 - val_loss: 0.0747 - val_ae_loss: 0.0089 - val_clf_loss: 0.0658 - val_ae_acc: 0.5067 - val_clf_acc: 0.9740\n",
            "Epoch 19/20\n",
            "60000/60000 [==============================] - 14s 233us/step - loss: 0.0628 - ae_loss: 0.0089 - clf_loss: 0.0539 - ae_acc: 0.5090 - clf_acc: 0.9784 - val_loss: 0.0773 - val_ae_loss: 0.0093 - val_clf_loss: 0.0680 - val_ae_acc: 0.5067 - val_clf_acc: 0.9738\n",
            "Epoch 20/20\n",
            "60000/60000 [==============================] - 14s 229us/step - loss: 0.0624 - ae_loss: 0.0088 - clf_loss: 0.0535 - ae_acc: 0.5090 - clf_acc: 0.9787 - val_loss: 0.0743 - val_ae_loss: 0.0088 - val_clf_loss: 0.0654 - val_ae_acc: 0.5068 - val_clf_acc: 0.9752\n"
          ],
          "name": "stdout"
        },
        {
          "output_type": "execute_result",
          "data": {
            "text/plain": [
              "<keras.callbacks.History at 0x7f272ad30290>"
            ]
          },
          "metadata": {
            "tags": []
          },
          "execution_count": 4
        }
      ]
    },
    {
      "metadata": {
        "id": "uxlW8oKUVF_X",
        "colab_type": "code",
        "colab": {}
      },
      "cell_type": "code",
      "source": [
        "p_img, p_clf = model.predict(x_test)"
      ],
      "execution_count": 0,
      "outputs": []
    },
    {
      "metadata": {
        "id": "cFLWq1WtVF_g",
        "colab_type": "code",
        "colab": {
          "base_uri": "https://localhost:8080/",
          "height": 573
        },
        "outputId": "68de5eae-f750-4d46-e497-53e87dc755b4"
      },
      "cell_type": "code",
      "source": [
        "n_samples = 3\n",
        "\n",
        "fig, axs = plt.subplots(n_samples, 2, figsize=(5,10))\n",
        "for idx, sample_id in enumerate(np.random.randint(0, len(p_img), n_samples)):\n",
        "    ax_img = axs[idx][0]\n",
        "    ax_pre = axs[idx][1]\n",
        "    ax_img.imshow(x_test[sample_id, ..., 0], cmap='gray')\n",
        "    ax_img.set_title(n2l[np.argmax(y_test[sample_id])])\n",
        "    ax_img.grid(False)\n",
        "    ax_pre.imshow(p_img[sample_id, ..., 0], cmap='gray')\n",
        "    ax_pre.set_title(n2l[np.argmax(p_clf[sample_id])])\n",
        "    ax_pre.grid(False)"
      ],
      "execution_count": 12,
      "outputs": [
        {
          "output_type": "display_data",
          "data": {
            "image/png": "[encoded data removed]",
            "text/plain": [
              "<Figure size 360x720 with 6 Axes>"
            ]
          },
          "metadata": {
            "tags": []
          }
        }
      ]
    },
    {
      "metadata": {
        "id": "1HN-szA8W15-",
        "colab_type": "code",
        "colab": {}
      },
      "cell_type": "code",
      "source": [
        ""
      ],
      "execution_count": 0,
      "outputs": []
    }
  ]
}